{
 "cells": [
  {
   "cell_type": "markdown",
   "metadata": {},
   "source": [
    "<img src=\"https://bit.ly/2VnXWr2\" width=\"100\" align=\"left\"/>"
   ]
  },
  {
   "cell_type": "markdown",
   "metadata": {},
   "source": [
    "# Robin Hood\n",
    "Robin Hood has entered a competition to win the archery contest in Sherwood. With his bow and arrows, he needs to shoot on a target and try to hit as close as possible to the center.\n",
    "\n",
    "![](images/arrows.jpg)\n",
    "\n",
    "## Context\n",
    "In this challenge, the landing position of arrows shot by archers in the competition will be represented using 2-dimensional coordinates. \n",
    "\n",
    "In the 2-dimensional space, a point can be defined by a pair of values that correspond to the horizontal coordinate (x) and the vertical coordinate (y). For example, in our case, an arrow that hits the center of the archery target will land in position (0, 0) on the coordinate axes. \n",
    "\n",
    "The space can be divided into 4 zones (quadrants): Q1, Q2, Q3, Q4. If a point is in Q1, both its x coordinate and y coordinate are positive. Any point with a null x or y coordinate is considered to not belong to any quadrant. \n",
    "\n",
    "If you want to know more about the cartesian coordinate system, you can check this [link](https://en.wikipedia.org/wiki/Cartesian_coordinate_system). \n",
    "\n",
    "## Tools\n",
    "You don't necessarily need to use all the tools. Maybe you opt to use some of them or completely different ones, they are given to help you shape the exercise. Programming exercises can be solved in many different ways.\n",
    "* Data structures: **lists, sets, tuples**\n",
    "* Conditional statements: **if-elif-else**\n",
    "* Loop: **while/for**\n",
    "* Minimum (optional sorting)\n",
    "\n",
    "## Tasks\n",
    "Robin Hood has hit the following points:"
   ]
  },
  {
   "cell_type": "code",
   "execution_count": 6,
   "metadata": {},
   "outputs": [],
   "source": [
    "points = [(4, 5), (-0, 2), (4, 7), (1, -3), (3, -2), (4, 5), (3, 2), (5, 7), (-5, 7), (2, 2), (-4, 5), (0, -2),\n",
    "          (-4, 7), (-1, 3), (-3, 2), (-4, -5), (-3, 2), (5, 7), (5, 7), (2, 2), (9, 9), (-8, -9)]"
   ]
  },
  {
   "cell_type": "markdown",
   "metadata": {},
   "source": [
    "#### 1. Robin Hood is famous for hitting an arrow with another arrow. Find the coordinates of the points where an arrow hits another arrow."
   ]
  },
  {
   "cell_type": "code",
   "execution_count": 7,
   "metadata": {},
   "outputs": [
    {
     "name": "stdout",
     "output_type": "stream",
     "text": [
      "{(4, 5), (5, 7), (-3, 2), (2, 2)}\n",
      "{(4, 5), (5, 7), (-3, 2), (2, 2)}\n"
     ]
    }
   ],
   "source": [
    "arrow_arrow=[]\n",
    "indexx=[]\n",
    "for location in points:\n",
    "    indexx.append(points.index(location))\n",
    "for location in points:\n",
    "    indexx.remove(points.index(location))\n",
    "    for number in indexx:\n",
    "        if location!= points[number]:\n",
    "            pass\n",
    "        \n",
    "        else:\n",
    "            arrow_arrow.append(location)\n",
    "unique=set(arrow_arrow)\n",
    "print(unique)\n",
    "\n",
    "#Easier way\n",
    "arrow_arrow=[]\n",
    "for dato in points:\n",
    "    for a in range(points.index(dato)+1,len(points)):\n",
    "        if dato== points[a]:\n",
    "            arrow_arrow.append(dato)\n",
    "unique=set(arrow_arrow)\n",
    "print(unique)\n",
    "\n",
    "    \n",
    "    "
   ]
  },
  {
   "cell_type": "markdown",
   "metadata": {},
   "source": [
    "#### 2. Calculate how many arrows have fallen in each quadrant. \n",
    "**Note**: the arrows that fall in the axis (x=0 or y=0) don't belong to any quadrant."
   ]
  },
  {
   "cell_type": "code",
   "execution_count": 8,
   "metadata": {},
   "outputs": [
    {
     "name": "stdout",
     "output_type": "stream",
     "text": [
      "10 arrows have fallen in Q1\n",
      "6 arrows have fallen in Q2\n",
      "2 arrows have fallen in Q3\n",
      "2 arrows have fallen in Q4\n"
     ]
    }
   ],
   "source": [
    "arrows_q1=0\n",
    "arrows_q2=0\n",
    "arrows_q3=0\n",
    "arrows_q4=0\n",
    "for point in points:\n",
    "    list(point)\n",
    "    if point[0]==0 or point[1]==0:\n",
    "        pass\n",
    "    elif point[0]>0:\n",
    "        if point[1]>0:\n",
    "            arrows_q1+=1\n",
    "        else:\n",
    "            arrows_q4+=1\n",
    "    else:\n",
    "        if point[1]>0:\n",
    "            arrows_q2+=1\n",
    "        else:\n",
    "            arrows_q3+=1\n",
    "print(arrows_q1, \"arrows have fallen in Q1\")\n",
    "print(arrows_q2, \"arrows have fallen in Q2\")\n",
    "print(arrows_q3, \"arrows have fallen in Q3\")\n",
    "print(arrows_q4, \"arrows have fallen in Q4\")\n",
    "    "
   ]
  },
  {
   "cell_type": "markdown",
   "metadata": {},
   "source": [
    "#### 3. Find the point closest to the center. Calculate its distance to the center. \n",
    "Take into account that there might be more than one point at the minimum distance to the center.\n",
    "\n",
    "**Hint**: Use the Euclidean distance. You can find more information about it [here](https://en.wikipedia.org/wiki/Euclidean_distance).  \n",
    "**Hint**: Defining a function that calculates the distance to the center can help."
   ]
  },
  {
   "cell_type": "code",
   "execution_count": 9,
   "metadata": {},
   "outputs": [
    {
     "name": "stdout",
     "output_type": "stream",
     "text": [
      "The closest points to the center are:  {(0, -2), (0, 2)}  with a distance to the center of  2.0\n"
     ]
    }
   ],
   "source": [
    "close_point=[]\n",
    "distance=[]\n",
    "def distance_center():\n",
    "    distance=((location[0])**2+(location[1]**2))**(1/2)\n",
    "    return distance\n",
    "for location in points:\n",
    "    list(location)\n",
    "    distance_to_center=distance_center()\n",
    "    distance.append(distance_to_center)\n",
    "min_distance=min(distance)\n",
    "for location in points:\n",
    "    if distance[points.index(location)] == min_distance:\n",
    "            close_point.append(location)\n",
    "unique=set(close_point)\n",
    "print(\"The closest points to the center are: \",unique, \" with a distance to the center of \",min_distance)\n",
    "\n",
    "\n"
   ]
  },
  {
   "cell_type": "markdown",
   "metadata": {},
   "source": [
    "#### 4. If the archery target has a radius of 9, calculate the number of arrows that won't hit the target. \n",
    "**Hint**: Use the function created in step 3. "
   ]
  },
  {
   "cell_type": "code",
   "execution_count": 10,
   "metadata": {},
   "outputs": [
    {
     "name": "stdout",
     "output_type": "stream",
     "text": [
      "[(9, 9), (-8, -9)]\n",
      "There are  2  arrows that won't hit the target\n"
     ]
    }
   ],
   "source": [
    "radius_9=[]\n",
    "for a in range (0,len(distance)):\n",
    "    if distance[a]>9:\n",
    "        radius_9.append(points[a])\n",
    "print(radius_9)\n",
    "print(\"There are \",len(radius_9),\" arrows that won't hit the target\")\n",
    "        "
   ]
  },
  {
   "cell_type": "code",
   "execution_count": null,
   "metadata": {},
   "outputs": [],
   "source": []
  }
 ],
 "metadata": {
  "kernelspec": {
   "display_name": "Python 3",
   "language": "python",
   "name": "python3"
  },
  "language_info": {
   "codemirror_mode": {
    "name": "ipython",
    "version": 3
   },
   "file_extension": ".py",
   "mimetype": "text/x-python",
   "name": "python",
   "nbconvert_exporter": "python",
   "pygments_lexer": "ipython3",
   "version": "3.7.4"
  }
 },
 "nbformat": 4,
 "nbformat_minor": 2
}
